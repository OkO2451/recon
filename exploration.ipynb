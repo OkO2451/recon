{
 "cells": [
  {
   "cell_type": "code",
   "execution_count": 1,
   "metadata": {},
   "outputs": [],
   "source": [
    "url_target = \"http://www.pythonchallenge.com/pc/def/linkedlist.php?nothing=\""
   ]
  },
  {
   "cell_type": "code",
   "execution_count": 13,
   "metadata": {},
   "outputs": [
    {
     "name": "stdout",
     "output_type": "stream",
     "text": [
      "Gobuster encountered an error:\n",
      "2024/07/07 03:19:25 [!] 2 errors occurred:\n",
      "\t* WordList (-w): Must be specified (use `-w -` for stdin)\n",
      "\t* Url/Domain (-u): Must be specified\n",
      "\n",
      "\n",
      "[]\n"
     ]
    }
   ],
   "source": [
    "import os\n",
    "import subprocess\n",
    "\n",
    "def invoquer_gobuster(url_target):\n",
    "    # Ensure url_target is not empty\n",
    "    if not url_target:\n",
    "        print(\"Url/Domain (-u) must be specified.\")\n",
    "        return []\n",
    "\n",
    "    wordlist_path = \"/home/imrane/PRG/python/recon/data/subDomaine.txt\"\n",
    "    \n",
    "    # Check if the wordlist file exists\n",
    "    if not os.path.isfile(wordlist_path):\n",
    "        print(f\"Wordlist file does not exist: {wordlist_path}\")\n",
    "        return []\n",
    "\n",
    "    try:\n",
    "        # Execute gobuster command and capture output\n",
    "        result = subprocess.run(\n",
    "            [\"gobuster\", \"dir\", \"-w\", wordlist_path, \"-u\", url_target],\n",
    "            stdout=subprocess.PIPE,\n",
    "            stderr=subprocess.PIPE,\n",
    "            text=True\n",
    "        )\n",
    "\n",
    "        # Handle errors\n",
    "        if result.returncode != 0:\n",
    "            print(\"Gobuster encountered an error:\")\n",
    "            print(result.stderr)\n",
    "            return []\n",
    "\n",
    "        # Split the output into a list of lines\n",
    "        output = result.stdout.split('\\n')\n",
    "\n",
    "        # Remove empty lines\n",
    "        output = [line for line in output if line.strip()]\n",
    "\n",
    "        return output\n",
    "\n",
    "    except Exception as e:\n",
    "        print(f\"An error occurred: {e}\")\n",
    "        return []\n",
    "\n",
    "# Example usage (replace 'http://example.com' with the actual URL)\n",
    "url_target = \"http://example.com\"\n",
    "result = invoquer_gobuster(url_target)\n",
    "print(result)\n"
   ]
  }
 ],
 "metadata": {
  "kernelspec": {
   "display_name": "Python 3",
   "language": "python",
   "name": "python3"
  },
  "language_info": {
   "codemirror_mode": {
    "name": "ipython",
    "version": 3
   },
   "file_extension": ".py",
   "mimetype": "text/x-python",
   "name": "python",
   "nbconvert_exporter": "python",
   "pygments_lexer": "ipython3",
   "version": "3.10.12"
  }
 },
 "nbformat": 4,
 "nbformat_minor": 2
}
